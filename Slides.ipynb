{
 "cells": [
  {
   "cell_type": "markdown",
   "metadata": {
    "collapsed": true,
    "slideshow": {
     "slide_type": "slide"
    }
   },
   "source": [
    "# Introduction to Python\n",
    "\n",
    "Initial tasks:\n",
    "\n",
    "1. Log into a PC (or have your laptop ready to use)\n",
    "2. Check you can start a Jupyter Notebook\n",
    "3. Open the course notes page at: \n",
    "  * [https://UoMResearchIT.github.io/python-novice-inflammation/](https://UoMResearchIT.github.io/python-novice-inflammation/)\n",
    "  * There is a link to this slideshow there\n",
    "4. There is no sign-in sheet.  Attendance is recorded via the feedback form [https://goo.gl/forms/YZJ05PzX9tPFEtuV2](https://goo.gl/forms/YZJ05PzX9tPFEtuV2)"
   ]
  },
  {
   "cell_type": "markdown",
   "metadata": {
    "slideshow": {
     "slide_type": "slide"
    }
   },
   "source": [
    "## Housekeeping\n",
    "\n",
    "* Fire exit\n",
    "* Toilets\n",
    "* Coffee breaks and lunch\n",
    "* Course timing\n",
    "* Feedback ([form](https://goo.gl/forms/YZJ05PzX9tPFEtuV2) and verbal)\n"
   ]
  },
  {
   "cell_type": "markdown",
   "metadata": {
    "slideshow": {
     "slide_type": "slide"
    }
   },
   "source": [
    "## Aims of the day\n",
    "\n",
    "* Introduction to Python and Jupyter Notebook\n",
    "  + No prior knowledge of Python assumed\n",
    "* Does not teach a full class of Python not data analysis with Python\n",
    "* The aim is to teach you enough know how to find out more"
   ]
  },
  {
   "cell_type": "markdown",
   "metadata": {
    "slideshow": {
     "slide_type": "slide"
    }
   },
   "source": [
    "## Research IT\n",
    "Described on the [IT Services website](http://www.itservices.manchester.ac.uk/research/)\n",
    "\n",
    "Announcements given via the [Research IT blog](https://researchitnews.org/) and newsletter (signup via the blog page) and on Twitter [@﻿UoM_eResearch](http://twitter.com/uom_eresearch)\n",
    "\n",
    "* [Training courses](http://ri.itservices.manchester.ac.uk/training) teach computing skills for research\n",
    "* Advice and guidance about research software\n",
    "* Access to specialist support and consultancy e.g. code reviews\n",
    "* Access to HPC systems - where you can run Python.\n",
    "* [Full list of services on offer](http://www.itservices.manchester.ac.uk/research/services/)\n",
    "\n",
    "Get in touch via the [support centre](http://supportcentre.manchester.ac.uk/)\n"
   ]
  },
  {
   "cell_type": "markdown",
   "metadata": {
    "slideshow": {
     "slide_type": "slide"
    }
   },
   "source": [
    "## Teaching methods\n",
    "\n",
    "* The course is based on the [Software Carpentry](https://software-carpentry.org) [Programming with Python](http://swcarpentry.github.io/python-novice-inflammation/) course\n",
    "    + Abridged\n",
    "    + Doesn't cover version control, but we offer [a separate course on this](http://app.manchester.ac.uk/rgit)"
   ]
  },
  {
   "cell_type": "markdown",
   "metadata": {
    "slideshow": {
     "slide_type": "slide"
    }
   },
   "source": [
    "## Teaching methods\n",
    "\n",
    "* The course is _interactive_\n",
    "    + These are the only slides\n",
    "* Getting help\n",
    "    + The sticky notes \n",
    "* Course notes\n",
    "    + Try to type-along without the notes\n",
    "    + All the code is in the notes (Extras menu); you can cut and paste this into Jupyter.\n",
    "    + The slides will remain online after the course.\n",
    "\n",
    "##  Let's get started\n",
    "\n",
    "https://uomresearchit.github.io/python-novice-inflammation/\n"
   ]
  }
 ],
 "metadata": {
  "celltoolbar": "Slideshow",
  "kernelspec": {
   "display_name": "Python 3",
   "language": "python",
   "name": "python3"
  },
  "language_info": {
   "codemirror_mode": {
    "name": "ipython",
    "version": 3
   },
   "file_extension": ".py",
   "mimetype": "text/x-python",
   "name": "python",
   "nbconvert_exporter": "python",
   "pygments_lexer": "ipython3",
   "version": "3.6.4"
  }
 },
 "nbformat": 4,
 "nbformat_minor": 2
}

